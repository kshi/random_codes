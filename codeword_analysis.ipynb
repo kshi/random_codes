{
 "cells": [
  {
   "cell_type": "code",
   "execution_count": 5,
   "metadata": {},
   "outputs": [],
   "source": [
    "import numpy as np\n",
    "import pandas as pd\n",
    "import matplotlib.pyplot as plt"
   ]
  },
  {
   "cell_type": "code",
   "execution_count": 6,
   "metadata": {},
   "outputs": [],
   "source": [
    "nb_codewords = 10\n",
    "cw = pd.read_csv(\"results/{0}_class_codewords.csv\".format(nb_codewords))\n",
    "codewords = cw.values[:, 1:]\n",
    "adv_pc = pd.read_csv(\"results/{0}_adv_predicted_codeword.csv\".format(nb_codewords), index_col=False)\n",
    "adv_labels = pd.read_csv(\"results/{0}_adv_hamming_distances.csv\".format(nb_codewords))\n",
    "true_pc = pd.read_csv(\"results/{0}_predicted_codeword.csv\".format(nb_codewords), index_col=False)\n",
    "true_labels = pd.read_csv(\"results/{0}_hamming_distances.csv\".format(nb_codewords))"
   ]
  },
  {
   "cell_type": "code",
   "execution_count": 7,
   "metadata": {},
   "outputs": [],
   "source": [
    "def get_accuracies(hamming_ratio, codeword_length, labels):\n",
    "    num_correct_pred = 0\n",
    "    num_abstain = 0\n",
    "    num_incorrect_pred = 0\n",
    "    for i in range(9850):\n",
    "        #x = pc.loc[i].values[1:]\n",
    "        #dx = np.sum(np.abs(codewords - x), 1)\n",
    "        dx = labels.loc[i].values[1:11]\n",
    "        idy = labels.loc[i].values[11:]\n",
    "        i = np.argmin(dx)\n",
    "        if dx[i] <  codeword_length * hamming_ratio:\n",
    "            if idy[i] == 1:\n",
    "                num_correct_pred += 1\n",
    "            else:\n",
    "                num_incorrect_pred += 1\n",
    "        else:\n",
    "            num_abstain += 1\n",
    "    return num_correct_pred, num_abstain, num_incorrect_pred"
   ]
  },
  {
   "cell_type": "code",
   "execution_count": 9,
   "metadata": {},
   "outputs": [],
   "source": [
    "accuracy = []\n",
    "adv_accuracy = []\n",
    "ratios = np.arange(0.01, 0.5, 0.01)\n",
    "for hr in ratios:\n",
    "    x1, y1, z1 = get_accuracies(hr, nb_codewords, true_labels)\n",
    "    x2, y2, z2 = get_accuracies(hr, nb_codewords, adv_labels)\n",
    "    accuracy.append( x1 / (x1 + y1 + z1) )\n",
    "    adv_accuracy.append( (x2 + y2) / (x2 + y2 + z2) )"
   ]
  },
  {
   "cell_type": "code",
   "execution_count": 10,
   "metadata": {},
   "outputs": [
    {
     "data": {
      "image/png": "[encoded data removed]",
      "text/plain": [
       "<Figure size 432x288 with 1 Axes>"
      ]
     },
     "metadata": {},
     "output_type": "display_data"
    }
   ],
   "source": [
    "plt.plot(ratios, accuracy)\n",
    "plt.plot(ratios, adv_accuracy)\n",
    "plt.xlabel('Hamming distance ratio')\n",
    "plt.ylabel('Accuracy')\n",
    "plt.legend(['True accuracy', 'Adversarial accuracy'])\n",
    "plt.savefig('figures/{0}_hamming_ratio.'.format(nb_codewords))"
   ]
  },
  {
   "cell_type": "code",
   "execution_count": null,
   "metadata": {},
   "outputs": [],
   "source": []
  }
 ],
 "metadata": {
  "kernelspec": {
   "display_name": "Python 3",
   "language": "python",
   "name": "python3"
  },
  "language_info": {
   "codemirror_mode": {
    "name": "ipython",
    "version": 3
   },
   "file_extension": ".py",
   "mimetype": "text/x-python",
   "name": "python",
   "nbconvert_exporter": "python",
   "pygments_lexer": "ipython3",
   "version": "3.5.2"
  }
 },
 "nbformat": 4,
 "nbformat_minor": 2
}
